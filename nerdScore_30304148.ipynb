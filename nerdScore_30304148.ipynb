{
 "cells": [
  {
   "cell_type": "code",
   "execution_count": 13,
   "metadata": {},
   "outputs": [],
   "source": [
    "#Author: Pattranit Chaiyabud\n",
    "#Date:09/04/2019\n",
    "\n",
    "\n",
    "#Functionality: calculate the skill score by the equation\n",
    "#x, y, z are inputs\n",
    "def calculateSkillEquation(FandomScore, HobbiesScore, SportsNum):\n",
    "    skillScore = 0  #intialize the output list\n",
    "\n",
    "    #Please write your own program here\n",
    "    \n",
    "    \n",
    "    \n",
    "    skillScore=(((42*HobbiesScore**2)/(SportsNum+1))**(1.0/2))*FandomScore\n",
    "    return skillScore\n",
    "\n",
    "    #if __name__ == '__main__':\n",
    "    \n",
    "        \n",
    "    \n",
    "    #FandomScore, HobbiesScore, SportsNum = 1, 4, 1 #the output should be 18.33030277982336\n",
    "\n",
    "    print(calculateSkillEquation(FandomScore,HobbiesScore, SportsNum))\n"
   ]
  },
  {
   "cell_type": "code",
   "execution_count": 14,
   "metadata": {},
   "outputs": [
    {
     "data": {
      "text/plain": [
       "18.33030277982336"
      ]
     },
     "execution_count": 14,
     "metadata": {},
     "output_type": "execute_result"
    }
   ],
   "source": [
    "calculateSkillEquation(1,4,1)"
   ]
  },
  {
   "cell_type": "code",
   "execution_count": 15,
   "metadata": {},
   "outputs": [
    {
     "data": {
      "text/plain": [
       "366.6060555964672"
      ]
     },
     "execution_count": 15,
     "metadata": {},
     "output_type": "execute_result"
    }
   ],
   "source": [
    "calculateSkillEquation(20,4,1)"
   ]
  },
  {
   "cell_type": "code",
   "execution_count": 16,
   "metadata": {},
   "outputs": [
    {
     "data": {
      "text/plain": [
       "1833.0302779823362"
      ]
     },
     "execution_count": 16,
     "metadata": {},
     "output_type": "execute_result"
    }
   ],
   "source": [
    "calculateSkillEquation(20,20,1)"
   ]
  },
  {
   "cell_type": "code",
   "execution_count": 17,
   "metadata": {},
   "outputs": [
    {
     "data": {
      "text/plain": [
       "91.65151389911681"
      ]
     },
     "execution_count": 17,
     "metadata": {},
     "output_type": "execute_result"
    }
   ],
   "source": [
    "calculateSkillEquation(1,20,1)"
   ]
  },
  {
   "cell_type": "code",
   "execution_count": 18,
   "metadata": {},
   "outputs": [
    {
     "data": {
      "text/plain": [
       "3.6299408518921203"
      ]
     },
     "execution_count": 18,
     "metadata": {},
     "output_type": "execute_result"
    }
   ],
   "source": [
    "calculateSkillEquation(1,4,50)"
   ]
  },
  {
   "cell_type": "code",
   "execution_count": null,
   "metadata": {},
   "outputs": [],
   "source": []
  }
 ],
 "metadata": {
  "kernelspec": {
   "display_name": "Python 3",
   "language": "python",
   "name": "python3"
  },
  "language_info": {
   "codemirror_mode": {
    "name": "ipython",
    "version": 3
   },
   "file_extension": ".py",
   "mimetype": "text/x-python",
   "name": "python",
   "nbconvert_exporter": "python",
   "pygments_lexer": "ipython3",
   "version": "3.7.1"
  }
 },
 "nbformat": 4,
 "nbformat_minor": 2
}
