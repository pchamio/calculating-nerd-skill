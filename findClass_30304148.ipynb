{
 "cells": [
  {
   "cell_type": "code",
   "execution_count": null,
   "metadata": {},
   "outputs": [],
   "source": [
    "#Author: Pattranit Chaiyabud\n",
    "#Date:09/04/2019\n",
    "\n",
    "\n",
    "def countStudentClass(studentScore_list):\n",
    "    if len(studentScore_list) < 1:\n",
    "        print(\"Please add at least 1 item into the list\")\n",
    "        return 0\n",
    "\n",
    "    nerdCount_list = [0] * 7  #intialize the output list\n",
    "\n",
    "#Please write your own program here\n",
    "for score in studentScore_list:\n",
    "    if score in items:\n",
    "        count[items.index(character.lower())] += 1\n",
    "    \n",
    "i = 0\n",
    "print(count)\n",
    "while i < len(items):\n",
    "    print(items[i] + \":\" + str(count[i]))\n",
    "    i += 1\n",
    "\n",
    "\n",
    "    return nerdCount_list\t\n",
    "\n",
    "if __name__ == '__main__':\n",
    "\n",
    "    #test cases\n",
    "    #studentScore_list = []  #\n",
    "\tstudentScore_list = [23, 76, 1300, 600]   #output should be [0, 0, 2, 0, 1, 1, 0]\n",
    "\n",
    "\n",
    "    print(countStudentClass(studentScore_list))\n",
    "    "
   ]
  },
  {
   "cell_type": "code",
   "execution_count": null,
   "metadata": {},
   "outputs": [],
   "source": []
  }
 ],
 "metadata": {
  "kernelspec": {
   "display_name": "Python 3",
   "language": "python",
   "name": "python3"
  },
  "language_info": {
   "codemirror_mode": {
    "name": "ipython",
    "version": 3
   },
   "file_extension": ".py",
   "mimetype": "text/x-python",
   "name": "python",
   "nbconvert_exporter": "python",
   "pygments_lexer": "ipython3",
   "version": "3.7.1"
  }
 },
 "nbformat": 4,
 "nbformat_minor": 2
}
