{
 "cells": [
  {
   "cell_type": "markdown",
   "metadata": {},
   "source": [
    "# Author: Pattranit Chaiyabud\n",
    "# Date:08/04/2019\n",
    "\n",
    "\n",
    "# Please write your own program here"
   ]
  },
  {
   "cell_type": "code",
   "execution_count": 1,
   "metadata": {},
   "outputs": [],
   "source": [
    "def fan_score():\n",
    "    status = True\n",
    "    while(status):\n",
    "        fan_score=input(\"How many things you consider yourself as a big fan of: \")\n",
    "        try:\n",
    "            fan_score = int(fan_score)\n",
    "            if(fan_score <=0):\n",
    "                print(\"the score should not be nagative nor zero\")\n",
    "            else:\n",
    "                status=False\n",
    "        except ValueError:\n",
    "            print(\"the score should be a number\")\n",
    "    return fan_score"
   ]
  },
  {
   "cell_type": "code",
   "execution_count": 2,
   "metadata": {},
   "outputs": [],
   "source": [
    "def hobbies_score():\n",
    "    status=True\n",
    "    while(status):\n",
    "        hobbies_score=input(\"How many hobbies do you take every week: \")\n",
    "        try:\n",
    "            hobbies_score = int(hobbies_score)\n",
    "            if(hobbies_score <0):\n",
    "                print(\"the score should not be nagative\")\n",
    "            else:\n",
    "                status=False\n",
    "        except ValueError:\n",
    "            print(\"the score must be a number\")\n",
    "    return hobbies_score*4"
   ]
  },
  {
   "cell_type": "code",
   "execution_count": 3,
   "metadata": {},
   "outputs": [],
   "source": [
    "def sport_score():\n",
    "    status=True\n",
    "    while(status):\n",
    "        sport_score=input(\"How many hobbies do you take every week: \")\n",
    "        try:\n",
    "            sport_score = int(sport_score)\n",
    "            if(sport_score <0):\n",
    "                print(\"the score should be positive only\")\n",
    "            else:\n",
    "                status=False\n",
    "        except ValueError:\n",
    "            print(\"the score must be a number\")\n",
    "    return sport_score"
   ]
  },
  {
   "cell_type": "code",
   "execution_count": 4,
   "metadata": {},
   "outputs": [],
   "source": [
    "def calculateSkillEquation(fan_score, hobbies_score, sport_score):\n",
    "    Nerd_score = 0  #intialize the output list\n",
    "    #Please write your own program here\n",
    "    if fan_score == \"\": \n",
    "        print(\"Fandom Score is missing\")\n",
    "    elif hobbies_score == \"\":\n",
    "        print(\"Hobbies Score is missing\")\n",
    "    elif sport_score == \"\":\n",
    "        print(\"Number of Sports played is missing\")\n",
    "    else:\n",
    "        Nerd_score=(((42*hobbies_score**2)/(sport_score+1))**(1.0/2))*fan_score\n",
    "        return Nerd_score"
   ]
  },
  {
   "cell_type": "code",
   "execution_count": 5,
   "metadata": {},
   "outputs": [],
   "source": [
    "#Print Nerd Rating of Students\n",
    "def rate(Nerd_score):\n",
    "    if type(Nerd_score)== str:\n",
    "        print(\"You haven't calculate the score\")\n",
    "    elif Nerd_score<=0:\n",
    "        print (\"You are a Nerdlite\")\n",
    "    elif 1<=Nerd_score<10:\n",
    "        print(\"You are a Nerdling\")\n",
    "    elif 10<=Nerd_score<100:\n",
    "        print(\"You are a Nerdlinger\")\n",
    "    elif 100<=Nerd_score<500:\n",
    "        print(\"You are a Nerd\")\n",
    "    elif 500<=Nerd_score<1000:\n",
    "        print(\"You are a Nerdington\")\n",
    "    elif 1000<=Nerd_score<2000:\n",
    "        print(\"You are a Nerdrometa\")\n",
    "    else:\n",
    "        print(\"You are a Nerd Supreme\")"
   ]
  },
  {
   "cell_type": "code",
   "execution_count": 6,
   "metadata": {},
   "outputs": [
    {
     "name": "stdout",
     "output_type": "stream",
     "text": [
      "\n",
      "--------------\n",
      "Menu\n",
      "1. Enter Fandom Score\n",
      "2. Enter Hobbies Score\n",
      "3. Enter Number of Sports played\n",
      "4. Calculate Nerd Score\n",
      "5. Print Nerd Rating of Student\n",
      "6. Exit\n",
      "Enter choice: 1\n",
      "How many things you consider yourself as a big fan of: 1\n",
      "\n",
      "--------------\n",
      "Menu\n",
      "1. Enter Fandom Score\n",
      "2. Enter Hobbies Score\n",
      "3. Enter Number of Sports played\n",
      "4. Calculate Nerd Score\n",
      "5. Print Nerd Rating of Student\n",
      "6. Exit\n",
      "Enter choice: 2\n",
      "How many hobbies do you take every week: 2\n",
      "\n",
      "--------------\n",
      "Menu\n",
      "1. Enter Fandom Score\n",
      "2. Enter Hobbies Score\n",
      "3. Enter Number of Sports played\n",
      "4. Calculate Nerd Score\n",
      "5. Print Nerd Rating of Student\n",
      "6. Exit\n",
      "Enter choice: 4\n"
     ]
    },
    {
     "ename": "NameError",
     "evalue": "name 'sport' is not defined",
     "output_type": "error",
     "traceback": [
      "\u001b[1;31m---------------------------------------------------------------------------\u001b[0m",
      "\u001b[1;31mNameError\u001b[0m                                 Traceback (most recent call last)",
      "\u001b[1;32m<ipython-input-6-ea2b739147dc>\u001b[0m in \u001b[0;36m<module>\u001b[1;34m\u001b[0m\n\u001b[0;32m     22\u001b[0m         \u001b[0msport\u001b[0m \u001b[1;33m=\u001b[0m \u001b[0msport_score\u001b[0m\u001b[1;33m(\u001b[0m\u001b[1;33m)\u001b[0m\u001b[1;33m\u001b[0m\u001b[1;33m\u001b[0m\u001b[0m\n\u001b[0;32m     23\u001b[0m     \u001b[1;32melif\u001b[0m \u001b[0mselection\u001b[0m \u001b[1;33m==\u001b[0m\u001b[1;36m4\u001b[0m\u001b[1;33m:\u001b[0m\u001b[1;33m\u001b[0m\u001b[1;33m\u001b[0m\u001b[0m\n\u001b[1;32m---> 24\u001b[1;33m         \u001b[0mnerd_score\u001b[0m \u001b[1;33m=\u001b[0m \u001b[0mcalculateSkillEquation\u001b[0m\u001b[1;33m(\u001b[0m\u001b[0mfan\u001b[0m\u001b[1;33m,\u001b[0m \u001b[0mhobby\u001b[0m\u001b[1;33m,\u001b[0m \u001b[0msport\u001b[0m\u001b[1;33m)\u001b[0m\u001b[1;33m\u001b[0m\u001b[1;33m\u001b[0m\u001b[0m\n\u001b[0m\u001b[0;32m     25\u001b[0m         \u001b[0mprint\u001b[0m\u001b[1;33m(\u001b[0m\u001b[0mnerd_score\u001b[0m\u001b[1;33m)\u001b[0m\u001b[1;33m\u001b[0m\u001b[1;33m\u001b[0m\u001b[0m\n\u001b[0;32m     26\u001b[0m     \u001b[1;32melif\u001b[0m \u001b[0mselection\u001b[0m \u001b[1;33m==\u001b[0m\u001b[1;36m5\u001b[0m\u001b[1;33m:\u001b[0m\u001b[1;33m\u001b[0m\u001b[1;33m\u001b[0m\u001b[0m\n",
      "\u001b[1;31mNameError\u001b[0m: name 'sport' is not defined"
     ]
    }
   ],
   "source": [
    "\n",
    "#fan = \"\"\n",
    "#hobby = \"\"\n",
    "#sport = \"\"\n",
    "#nerd_score = \"\"               \n",
    "condition = True\n",
    "while (condition):\n",
    "    print(\"\\n--------------\")\n",
    "    print(\"Menu\")\n",
    "    print(\"1. Enter Fandom Score\")\n",
    "    print(\"2. Enter Hobbies Score\")\n",
    "    print(\"3. Enter Number of Sports played\")\n",
    "    print(\"4. Calculate Nerd Score\")\n",
    "    print(\"5. Print Nerd Rating of Student\")\n",
    "    print(\"6. Exit\")\n",
    "    selection=int(input(\"Enter choice: \"))\n",
    "    if selection ==1:\n",
    "        fan = fan_score()\n",
    "    elif selection ==2:\n",
    "        hobby = hobbies_score()\n",
    "    elif selection ==3:\n",
    "        sport = sport_score()\n",
    "    elif selection ==4:\n",
    "        nerd_score = calculateSkillEquation(fan, hobby, sport)\n",
    "        print(nerd_score)\n",
    "    elif selection ==5:\n",
    "        rate(nerd_score)\n",
    "    elif selection == 6:\n",
    "        condition = False\n",
    "    "
   ]
  },
  {
   "cell_type": "code",
   "execution_count": null,
   "metadata": {},
   "outputs": [],
   "source": [
    "print(\"Menu\")\n",
    "print(\"1. Enter Fandom Score\")\n",
    "print(\"2. Enter Hobbies Score\")\n",
    "print(\"3. Enter Number of Sports played\")\n",
    "print(\"4. Calculate Nerd Score\")\n",
    "print(\"5. Print Nerd Rating of Student\")\n",
    "condition = True\n",
    "while(condition):\n",
    "    try:\n",
    "        selection=int(input(\"Enter choice: \"))\n",
    "        if selection ==1:\n",
    "            fan_score()\n",
    "        elif selection ==2:\n",
    "            hobbies_score()\n",
    "        elif selection ==3:\n",
    "            sport_score()\n",
    "        elif selection ==4:\n",
    "            calculateSkillEquation()\n",
    "        elif selection ==5:\n",
    "            rate()\n",
    "        else:\n",
    "            print(\"Invalid choice. Enter 1-5\")\n",
    "    except ValueError:\n",
    "        print(\"Invalid choice. Enter 1-5\")"
   ]
  },
  {
   "cell_type": "code",
   "execution_count": null,
   "metadata": {},
   "outputs": [],
   "source": []
  },
  {
   "cell_type": "code",
   "execution_count": null,
   "metadata": {},
   "outputs": [],
   "source": []
  },
  {
   "cell_type": "code",
   "execution_count": null,
   "metadata": {},
   "outputs": [],
   "source": []
  },
  {
   "cell_type": "code",
   "execution_count": null,
   "metadata": {},
   "outputs": [],
   "source": []
  },
  {
   "cell_type": "code",
   "execution_count": null,
   "metadata": {},
   "outputs": [],
   "source": [
    "def menu():\n",
    "    print(\"Menu\")\n",
    "    print(\"1. Enter Fandom Score\")\n",
    "    print(\"2. Enter Hobbies Score\")\n",
    "    print(\"3. Enter Number of Sports played\")\n",
    "    print(\"4. Calculate Nerd Score\")\n",
    "    print(\"5. Print Nerd Rating of Student\")\n",
    "    while True:\n",
    "        try:\n",
    "            selection=int(input(\"Enter choice: \"))\n",
    "            if selection ==1:\n",
    "                fandom()\n",
    "                break\n",
    "            elif selection ==2:\n",
    "                hobbies()\n",
    "                break\n",
    "            elif selection ==3:\n",
    "                sport()\n",
    "                break\n",
    "            elif selection ==4:\n",
    "                cal()\n",
    "                break\n",
    "            elif selection ==5:\n",
    "                rate()\n",
    "                break\n",
    "            else:\n",
    "                print(\"Invalid choice. Enter 1-5\")\n",
    "                menu()\n",
    "        except ValueError:\n",
    "            print(\"Invalid choice. Enter 1-5\")\n",
    "    exit\n",
    "\n",
    "#Enter Fandom Score\n",
    "def fandom():\n",
    "    fan_score=int(input(\"How many things you consider yourself as a big fan of: \"))\n",
    "    if fan_score <=0 :\n",
    "        print(\"the score should not be nagative nor zero\")\n",
    "    elif type(fan_score) != int:\n",
    "        print(\"the score should be a number\")\n",
    "    \n",
    "    print(\"Fandom Score is \"+str(fan_score)) \n",
    "    menu()\n",
    "\n",
    "#Enter Hobbies Score\n",
    "def hobbies():\n",
    "    hobbies_score=int(input(\"How many hobbies do you take every week: \"))\n",
    "    hobbies_score=hobbies_score*4\n",
    "    #except hobbies_scoreError == int:\n",
    "        #print(\"This is not an int\")\n",
    "\n",
    "    print(\"Hobbies Score is \"+str(hobbies_score))\n",
    "    menu()\n",
    "    \n",
    "#Enter Number of sports played\n",
    "def sport():\n",
    "    sport_play=int(input(\"How many sport item do you own: \"))\n",
    "    if sport_play <=0:\n",
    "        print(\"The quality should be a positive number\")\n",
    "    \n",
    "    print(\"Number of Sport played is \"+str(sport_play))\n",
    "    menu()\n",
    "    \n",
    "#Calculate Nerd Score\n",
    "def cal():\n",
    "    #x == fan_score\n",
    "    #y == hobbies_score\n",
    "    #z == sport_play\n",
    "    Nerd_score=(((42*hobbies_score**2)/(sport_play+1))**(1.0/2))*fan_score\n",
    "    print(\"Your Nerd Score is \"+str(Nerd_score))\n",
    "    if fan_score == \"\": \n",
    "        print(\"Fandom Score is missing\")\n",
    "    elif hobbies_score == \"\":\n",
    "        print(\"Hobbies Score is missing\")\n",
    "    elif sport_play == \"\":\n",
    "        print(\"Number of Sports played is missing\")\n",
    "    a\n"
   ]
  },
  {
   "cell_type": "code",
   "execution_count": null,
   "metadata": {},
   "outputs": [],
   "source": []
  },
  {
   "cell_type": "code",
   "execution_count": null,
   "metadata": {},
   "outputs": [],
   "source": []
  },
  {
   "cell_type": "code",
   "execution_count": null,
   "metadata": {},
   "outputs": [],
   "source": [
    "def fandom():\n",
    "    fan_score=int(input(\"How many things you consider yourself as a big fan of: \"))\n",
    "    if fan_score <=0 or fan_score == 0:\n",
    "        print(\"the score should not be nagative nor zero\")\n",
    "\n",
    "    print(\"Fandom Score is \"+str(fan_score))"
   ]
  },
  {
   "cell_type": "code",
   "execution_count": null,
   "metadata": {},
   "outputs": [],
   "source": []
  },
  {
   "cell_type": "code",
   "execution_count": null,
   "metadata": {},
   "outputs": [],
   "source": [
    "#Enter Hobbies Score\n",
    "def hobbies()\n",
    "    hobbies_score=int(input(\"How many hobbies do you take every week: \"))\n",
    "    hobbies_score=hobbies_score*4\n",
    "    except hobbies_scoreError == int:\n",
    "        print(\"This is not an int\")\n",
    "\n",
    "    print(\"Hobbies Score is \"+str(hobbies_score))"
   ]
  },
  {
   "cell_type": "code",
   "execution_count": null,
   "metadata": {},
   "outputs": [],
   "source": [
    "#Enter Number of sports played\n",
    "def sport()\n",
    "    sport_play=int(input(\"How many sport item do you own: \"))\n",
    "    if sport_play <=0:\n",
    "        print(\"The quality should be a positive number\")\n",
    "    \n",
    "    print(\"Number of Sport played is \"+str(sport_play))"
   ]
  },
  {
   "cell_type": "code",
   "execution_count": null,
   "metadata": {},
   "outputs": [],
   "source": [
    "#Calculate Nerd Score\n",
    "#def cal()\n",
    "    #x = fan_score\n",
    "    #y = hobbies_score\n",
    "    #z = sport_play\n",
    "    \n",
    "Nerd_score=(((42*y**2)/(z+1))**(1.0/2))*x\n",
    "print(Nerd_score)\n",
    "\n"
   ]
  },
  {
   "cell_type": "code",
   "execution_count": null,
   "metadata": {},
   "outputs": [],
   "source": [
    "x=2\n",
    "y=3\n",
    "z=4\n",
    "a=(((42*y**2)/(z+1))**(1.0/2))*x\n",
    "print(a)"
   ]
  },
  {
   "cell_type": "code",
   "execution_count": 9,
   "metadata": {},
   "outputs": [
    {
     "ename": "IndentationError",
     "evalue": "unindent does not match any outer indentation level (<tokenize>, line 5)",
     "output_type": "error",
     "traceback": [
      "\u001b[1;36m  File \u001b[1;32m\"<tokenize>\"\u001b[1;36m, line \u001b[1;32m5\u001b[0m\n\u001b[1;33m    elif 1<=Nerd_score<10:\u001b[0m\n\u001b[1;37m    ^\u001b[0m\n\u001b[1;31mIndentationError\u001b[0m\u001b[1;31m:\u001b[0m unindent does not match any outer indentation level\n"
     ]
    }
   ],
   "source": [
    "#Print Nerd Rating of Students\n",
    "def rate()\n",
    "     if Nerd_score<=0:\n",
    "        print (\"You are a Nerdlite\")\n",
    "    elif 1<=Nerd_score<10:\n",
    "        print(\"You are a Nerdling\")\n",
    "    elif 10<=Nerd_score<100:\n",
    "        print(\"You are a Nerdlinger\")\n",
    "    elif 100<=Nerd_score<500:\n",
    "        print(\"You are a Nerd\")\n",
    "    elif 500<=Nerd_score<1000:\n",
    "        print(\"You are a Nerdington\")\n",
    "    elif 1000<=Nerd_score<2000:\n",
    "        print(\"You are a Nerdrometa\")\n",
    "    else:\n",
    "        print(\"You are a Nerd Supreme\")\n",
    "rate()\n"
   ]
  },
  {
   "cell_type": "code",
   "execution_count": null,
   "metadata": {},
   "outputs": [],
   "source": []
  }
 ],
 "metadata": {
  "kernelspec": {
   "display_name": "Python 3",
   "language": "python",
   "name": "python3"
  },
  "language_info": {
   "codemirror_mode": {
    "name": "ipython",
    "version": 3
   },
   "file_extension": ".py",
   "mimetype": "text/x-python",
   "name": "python",
   "nbconvert_exporter": "python",
   "pygments_lexer": "ipython3",
   "version": "3.7.1"
  }
 },
 "nbformat": 4,
 "nbformat_minor": 2
}
